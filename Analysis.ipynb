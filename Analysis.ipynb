{
 "cells": [
  {
   "cell_type": "markdown",
   "metadata": {},
   "source": [
    "<h1><center>Quality Of Supply And Happiness</center></h1>"
   ]
  },
  {
   "cell_type": "markdown",
   "metadata": {},
   "source": [
    "### This document is a portfolio project of mine in which I clean, visualize and analyze data from World Happiness Survey as well as Quality of Electricity data available for European countries. I later merge the datasets and draw meaningful conclusions about people's tendencies to give biased answer while surveyed. "
   ]
  },
  {
   "cell_type": "markdown",
   "metadata": {},
   "source": [
    "The idea for this research project came from watching Thoughty2 video titled [The Happiest Country on Earth? Think Again...](https://youtu.be/tckVx_kaYco)"
   ]
  },
  {
   "cell_type": "markdown",
   "metadata": {},
   "source": [
    "The thesis of the video is that the reason Scandinavian countries top the charts of world happiness rankings every year, is cultural. He recognizes that life in Scandinavia is good objectively, yet claims that the culture is such as to give them unfair advantage in all of the happiness rankings. [Exhibit A](https://en.wikipedia.org/wiki/World_Happiness_Report#2019_report)"
   ]
  },
  {
   "cell_type": "markdown",
   "metadata": {},
   "source": [
    "He mentions The Law of Jante (Janteloven), according to Wikipedia it is a code of conduct known in Nordic countries that portrays not conforming, doing things out of the ordinary, or being overtly personally ambitious as unworthy and inappropriate"
   ]
  },
  {
   "cell_type": "markdown",
   "metadata": {},
   "source": [
    "Basically Thoughty2's argument is, that culture in certain countries (going beyond just considering Scandinavian countries) may encourage people to report and feel happier about their life then they would otherwise be, given their circumstances in life. "
   ]
  },
  {
   "cell_type": "markdown",
   "metadata": {},
   "source": [
    "## The basic idea behind this portfolio project"
   ]
  },
  {
   "cell_type": "markdown",
   "metadata": {},
   "source": [
    "It is impossible to measure happiness objectively. But for the sake of argument imagine that it were possible. In this case after surveying the people of a nation, and asking them how happy they think they are, it could be established how biased are they in their assessment of their own happiness (quality of their life). **The idea of this project is proving (or well presenting some evidence in favour) that these biases exist, that they are distinct from country to country and can be predicted.**\n",
    "\n",
    "This is going to be done by finding biases for each of European nations concerning *something else* than their happiness (something measurable), and then comparing them to the unexplained happiness values. At the end of this project there was found a significant correlation between unexplained happiness values and bias values, which is interpreted as evidence for the existence and distinctiveness of the happiness biases. The *something else* in this case is quality of electricity in a country, and peoples biases concerning that."
   ]
  },
  {
   "cell_type": "markdown",
   "metadata": {},
   "source": [
    "*Note: bias in this context is used to describe a tendency of people to give an answer that is either overestimating or underestimating the true answer.*"
   ]
  },
  {
   "cell_type": "markdown",
   "metadata": {},
   "source": [
    "## Data gathering and cleaning"
   ]
  },
  {
   "cell_type": "markdown",
   "metadata": {},
   "source": [
    "I start out the analysis by importing all of the libraries that I'm going to use"
   ]
  },
  {
   "cell_type": "code",
   "execution_count": 1,
   "metadata": {},
   "outputs": [],
   "source": [
    "import numpy as np\n",
    "import pandas as pd"
   ]
  },
  {
   "cell_type": "code",
   "execution_count": 2,
   "metadata": {},
   "outputs": [],
   "source": [
    "import matplotlib.pyplot as plt\n",
    "import seaborn as sns\n",
    "%matplotlib inline"
   ]
  },
  {
   "cell_type": "code",
   "execution_count": 3,
   "metadata": {},
   "outputs": [],
   "source": [
    "import string\n",
    "import pycountry\n",
    "import warnings\n",
    "import statsmodels.api as sm\n",
    "import copy"
   ]
  },
  {
   "cell_type": "markdown",
   "metadata": {},
   "source": [
    "The reason for choosing quality of electricity as the other source of data for the biases is that there is data available about **both** quality of electricity and perceived quality of electricity for each European country."
   ]
  },
  {
   "cell_type": "markdown",
   "metadata": {},
   "source": [
    "First dataset that I'm using was published by World Economic Forum (WEF) alongside their yearly [\"The Global Competitiveness Report\"](https://www.weforum.org/reports/global-competitiveness-report-2019). WEF gathers a lot of different statistical data from over 140 countries.\n",
    "In fact the combined dataset with results from 2007 up to 2017, contains over 6000 different indeces for each of the countries"
   ]
  },
  {
   "cell_type": "markdown",
   "metadata": {},
   "source": [
    "Below is the view of this dataset in excel"
   ]
  },
  {
   "cell_type": "markdown",
   "metadata": {},
   "source": [
    "<img src=\"image1.jpeg\" width=\"1000\" />"
   ]
  },
  {
   "cell_type": "markdown",
   "metadata": {},
   "source": [
    "Specifically I'm interested in Executive Opinion Survey part of the dataset. This is a survey that is completed by business executives. More specifically I'm interested in one question that was asked:"
   ]
  },
  {
   "cell_type": "markdown",
   "metadata": {},
   "source": [
    "## In your country, how reliable is the electricity supply (lack of interruptions and lack of voltage fluctuations)? [1 = extremely unreliable; 7 = extremely reliable]"
   ]
  },
  {
   "cell_type": "markdown",
   "metadata": {},
   "source": [
    "After first filtering in excel and later cleaning the data in several ways in this notebook I create a final pandas DataFrame with clean data concerning answer to the question above. I call this dataframe **values_raw**"
   ]
  },
  {
   "cell_type": "code",
   "execution_count": 4,
   "metadata": {},
   "outputs": [],
   "source": [
    "supply = pd.read_excel('supply_dataset.xlsx')"
   ]
  },
  {
   "cell_type": "code",
   "execution_count": 5,
   "metadata": {},
   "outputs": [],
   "source": [
    "sup = supply.T\n",
    "sup.drop(['Placement','GLOBAL ID','Code GCR','Series','Series unindented','Dataset'], inplace=True)"
   ]
  },
  {
   "cell_type": "code",
   "execution_count": 6,
   "metadata": {},
   "outputs": [],
   "source": [
    "def value_cols(sup,cols):\n",
    "    valuecols = []\n",
    "    for col in cols:\n",
    "        if sup[col].loc['Attribute'] == 'Value':\n",
    "            valuecols.append(col)\n",
    "    return valuecols"
   ]
  },
  {
   "cell_type": "code",
   "execution_count": 7,
   "metadata": {},
   "outputs": [
    {
     "data": {
      "text/html": [
       "<div>\n",
       "<style scoped>\n",
       "    .dataframe tbody tr th:only-of-type {\n",
       "        vertical-align: middle;\n",
       "    }\n",
       "\n",
       "    .dataframe tbody tr th {\n",
       "        vertical-align: top;\n",
       "    }\n",
       "\n",
       "    .dataframe thead th {\n",
       "        text-align: right;\n",
       "    }\n",
       "</style>\n",
       "<table border=\"1\" class=\"dataframe\">\n",
       "  <thead>\n",
       "    <tr style=\"text-align: right;\">\n",
       "      <th>Edition</th>\n",
       "      <th>2017-2018</th>\n",
       "      <th>2016-2017</th>\n",
       "      <th>2015-2016</th>\n",
       "      <th>2014-2015</th>\n",
       "      <th>2013-2014</th>\n",
       "      <th>2012-2013</th>\n",
       "      <th>2011-2012</th>\n",
       "      <th>2010-2011</th>\n",
       "      <th>2009-2010</th>\n",
       "      <th>2008-2009</th>\n",
       "      <th>2007-2008</th>\n",
       "    </tr>\n",
       "  </thead>\n",
       "  <tbody>\n",
       "    <tr>\n",
       "      <th>Albania</th>\n",
       "      <td>4.60736</td>\n",
       "      <td>4.45015</td>\n",
       "      <td>4.72439</td>\n",
       "      <td>4.67217</td>\n",
       "      <td>4.45281</td>\n",
       "      <td>4.83051</td>\n",
       "      <td>4.98444</td>\n",
       "      <td>3.99643</td>\n",
       "      <td>2.71199</td>\n",
       "      <td>1.80472</td>\n",
       "      <td>1.65302</td>\n",
       "    </tr>\n",
       "    <tr>\n",
       "      <th>Algeria</th>\n",
       "      <td>4.19741</td>\n",
       "      <td>4.03566</td>\n",
       "      <td>4.02131</td>\n",
       "      <td>3.99995</td>\n",
       "      <td>4.18653</td>\n",
       "      <td>4.47241</td>\n",
       "      <td>4.59393</td>\n",
       "      <td>4.76944</td>\n",
       "      <td>4.39401</td>\n",
       "      <td>4.53281</td>\n",
       "      <td>4.50669</td>\n",
       "    </tr>\n",
       "    <tr>\n",
       "      <th>Angola</th>\n",
       "      <td>NaN</td>\n",
       "      <td>NaN</td>\n",
       "      <td>NaN</td>\n",
       "      <td>1.7145</td>\n",
       "      <td>1.65625</td>\n",
       "      <td>NaN</td>\n",
       "      <td>1.4185</td>\n",
       "      <td>1.53209</td>\n",
       "      <td>NaN</td>\n",
       "      <td>NaN</td>\n",
       "      <td>NaN</td>\n",
       "    </tr>\n",
       "    <tr>\n",
       "      <th>Argentina</th>\n",
       "      <td>3.00721</td>\n",
       "      <td>2.70286</td>\n",
       "      <td>2.56035</td>\n",
       "      <td>2.62633</td>\n",
       "      <td>3.05773</td>\n",
       "      <td>3.48083</td>\n",
       "      <td>3.75778</td>\n",
       "      <td>3.83035</td>\n",
       "      <td>3.48215</td>\n",
       "      <td>3.25399</td>\n",
       "      <td>3.6581</td>\n",
       "    </tr>\n",
       "    <tr>\n",
       "      <th>Armenia</th>\n",
       "      <td>4.78018</td>\n",
       "      <td>4.78378</td>\n",
       "      <td>4.76874</td>\n",
       "      <td>5.07773</td>\n",
       "      <td>5.20775</td>\n",
       "      <td>4.90274</td>\n",
       "      <td>4.76575</td>\n",
       "      <td>4.44769</td>\n",
       "      <td>4.22271</td>\n",
       "      <td>3.97428</td>\n",
       "      <td>3.86922</td>\n",
       "    </tr>\n",
       "  </tbody>\n",
       "</table>\n",
       "</div>"
      ],
      "text/plain": [
       "Edition   2017-2018 2016-2017 2015-2016 2014-2015 2013-2014 2012-2013  \\\n",
       "Albania     4.60736   4.45015   4.72439   4.67217   4.45281   4.83051   \n",
       "Algeria     4.19741   4.03566   4.02131   3.99995   4.18653   4.47241   \n",
       "Angola          NaN       NaN       NaN    1.7145   1.65625       NaN   \n",
       "Argentina   3.00721   2.70286   2.56035   2.62633   3.05773   3.48083   \n",
       "Armenia     4.78018   4.78378   4.76874   5.07773   5.20775   4.90274   \n",
       "\n",
       "Edition   2011-2012 2010-2011 2009-2010 2008-2009 2007-2008  \n",
       "Albania     4.98444   3.99643   2.71199   1.80472   1.65302  \n",
       "Algeria     4.59393   4.76944   4.39401   4.53281   4.50669  \n",
       "Angola       1.4185   1.53209       NaN       NaN       NaN  \n",
       "Argentina   3.75778   3.83035   3.48215   3.25399    3.6581  \n",
       "Armenia     4.76575   4.44769   4.22271   3.97428   3.86922  "
      ]
     },
     "execution_count": 7,
     "metadata": {},
     "output_type": "execute_result"
    }
   ],
   "source": [
    "warnings.simplefilter('ignore')\n",
    "values_raw = sup[value_cols(sup, sup.columns)]\n",
    "values_raw.columns = values_raw.loc['Edition']\n",
    "values_raw.drop(['Edition','Attribute'], axis = 0, inplace = True)\n",
    "values_raw.drop(values_raw.tail(8).index, axis = 0,inplace = True)\n",
    "values_raw.head()"
   ]
  },
  {
   "cell_type": "markdown",
   "metadata": {},
   "source": [
    "As can be noticed there is some amount of missing values in the dataset. In order to get some intuition about how many NULLs there are, and what can be done, I created visualization below (each yellow line correspolnds to a missing value)"
   ]
  },
  {
   "cell_type": "code",
   "execution_count": 8,
   "metadata": {},
   "outputs": [
    {
     "data": {
      "text/plain": [
       "<matplotlib.axes._subplots.AxesSubplot at 0x1b9e76cef60>"
      ]
     },
     "execution_count": 8,
     "metadata": {},
     "output_type": "execute_result"
    },
    {
     "data": {
      "image/png": "[encoded data removed]",
      "text/plain": [
       "<Figure size 720x720 with 1 Axes>"
      ]
     },
     "metadata": {
      "needs_background": "light"
     },
     "output_type": "display_data"
    }
   ],
   "source": [
    "plt.figure(figsize=(10,10))\n",
    "sns.heatmap(values_raw.isnull(),yticklabels=False, cbar=False, cmap='viridis')"
   ]
  },
  {
   "cell_type": "markdown",
   "metadata": {},
   "source": [
    "As can be noticed in recent years the number of missing values is quite small. Even smaller for European countries, so  those missing values can be dropped\n",
    "\n",
    "Below is a list of some of the top perceived quality of electricity (quality of supply) countries"
   ]
  },
  {
   "cell_type": "code",
   "execution_count": 9,
   "metadata": {},
   "outputs": [
    {
     "data": {
      "text/plain": [
       "Norway           6.86563\n",
       "Switzerland      6.86451\n",
       "Singapore        6.85355\n",
       "Hong Kong SAR    6.84783\n",
       "Denmark          6.78811\n",
       "Netherlands       6.7796\n",
       "France           6.76202\n",
       "Luxembourg        6.7064\n",
       "Name: 2017-2018, dtype: object"
      ]
     },
     "execution_count": 9,
     "metadata": {},
     "output_type": "execute_result"
    }
   ],
   "source": [
    "ranking2018 = values_raw['2017-2018'].dropna().sort_values(ascending = False)\n",
    "ranking2018.head(8)"
   ]
  },
  {
   "cell_type": "markdown",
   "metadata": {},
   "source": [
    "Next we're going to explore data that will show some factual statistics about quality supply. The data comes from Council of European Energy Regulators (CEER). In their [CEER Benchmarking Report 6.1 –Continuity of Electricity and Gas supply](https://www.ceer.eu/documents/104400/-/-/963153e6-2f42-78eb-22a4-06f1552dd34c) they gather several different quality of supply indexes per each country."
   ]
  },
  {
   "cell_type": "markdown",
   "metadata": {},
   "source": [
    "If the goal is to answer factually the question of: \"*In your country, how reliable is the electricity supply?*\", which index should be chosen? There is no one right answer. Based on my perception, the best one to be chosen is something called \"planned and unplanned SAIDI, including exceptional events\""
   ]
  },
  {
   "cell_type": "markdown",
   "metadata": {},
   "source": [
    "<h2><center>SAIDI - System Average Interruption Duration Inde, a measure of  how many minutes in a given year there's no electricity (per customer)</center></h2>"
   ]
  },
  {
   "cell_type": "markdown",
   "metadata": {},
   "source": [
    "There are several subjective choices that I had to make. In my opinion weather interruption is planned, unplanned or is a result of some natural disaster, is all the same to a customer. There's no electricity. And so this index has been chosen"
   ]
  },
  {
   "cell_type": "markdown",
   "metadata": {},
   "source": [
    "Next after a bit of processing (the actual csv files had to be extracted from a pdf version of report) the data about SAIDI for european countries for years 2002 - 2016 are stored in a variable **saidi_including** (since it includes exceptional events)"
   ]
  },
  {
   "cell_type": "code",
   "execution_count": 10,
   "metadata": {},
   "outputs": [],
   "source": [
    "def dot_float_series(series):\n",
    "    return pd.Series([float(element.replace('.','').replace(',','.'))if \n",
    "                      (type(element)== str and element[0] not in string.ascii_letters) else element for element in series])"
   ]
  },
  {
   "cell_type": "code",
   "execution_count": 11,
   "metadata": {},
   "outputs": [],
   "source": [
    "saidi_including = pd.read_csv('saidi_including_ex_tabula.csv')\n",
    "saidi_including = saidi_including.apply(dot_float_series, axis = 0)\n",
    "saidi_including = saidi_including.set_index('Country')"
   ]
  },
  {
   "cell_type": "markdown",
   "metadata": {},
   "source": [
    "After several more procedures (like cleaning, merging, dropping NULL values, and creating a column marking Scandinavian countries) two dataframes for years 2015 and 2016 were created comparing data from the poll (Survey) (scale from 1 to 7) and the actual, factual one (data in minutes). I called them **df_compare15** and **df_compare16**"
   ]
  },
  {
   "cell_type": "code",
   "execution_count": 12,
   "metadata": {},
   "outputs": [],
   "source": [
    "ranking2016 = values_raw['2015-2016'].dropna().sort_values()"
   ]
  },
  {
   "cell_type": "code",
   "execution_count": 13,
   "metadata": {},
   "outputs": [],
   "source": [
    "saidi2016 = saidi_including['2016']"
   ]
  },
  {
   "cell_type": "code",
   "execution_count": 14,
   "metadata": {},
   "outputs": [],
   "source": [
    "ranking2015 = values_raw['2014-2015'].dropna().sort_values()\n",
    "saidi2015 = saidi_including['2015']"
   ]
  },
  {
   "cell_type": "code",
   "execution_count": 15,
   "metadata": {},
   "outputs": [],
   "source": [
    "df_compare16 = pd.concat([ranking2016, saidi2016], axis=1,sort=True)\n",
    "df_compare16.columns = ['poll','saidi']\n",
    "df_compare16 = df_compare16.dropna()"
   ]
  },
  {
   "cell_type": "code",
   "execution_count": 16,
   "metadata": {},
   "outputs": [],
   "source": [
    "df_compare15 = pd.concat([ranking2015, saidi2015], axis=1, sort= True)\n",
    "df_compare15.columns = ['poll','saidi']\n",
    "df_compare15 = df_compare15.dropna()"
   ]
  },
  {
   "cell_type": "code",
   "execution_count": 17,
   "metadata": {},
   "outputs": [],
   "source": [
    "df_compare16['scandinavia'] = np.zeros(df_compare16.shape[0])\n",
    "for ind in df_compare16.index:\n",
    "    if ind in ['Finland','Iceland','Norway','Denmark','Sweden']:\n",
    "        df_compare16.loc[ind,'scandinavia'] = 1"
   ]
  },
  {
   "cell_type": "code",
   "execution_count": 18,
   "metadata": {},
   "outputs": [],
   "source": [
    "df_compare15['scandinavia'] = np.zeros(df_compare15.shape[0])\n",
    "for ind in df_compare15.index:\n",
    "    if ind in ['Finland','Iceland','Norway','Denmark','Sweden']:\n",
    "        df_compare15.loc[ind,'scandinavia'] = 1"
   ]
  },
  {
   "cell_type": "code",
   "execution_count": 19,
   "metadata": {},
   "outputs": [
    {
     "data": {
      "text/html": [
       "<div>\n",
       "<style scoped>\n",
       "    .dataframe tbody tr th:only-of-type {\n",
       "        vertical-align: middle;\n",
       "    }\n",
       "\n",
       "    .dataframe tbody tr th {\n",
       "        vertical-align: top;\n",
       "    }\n",
       "\n",
       "    .dataframe thead th {\n",
       "        text-align: right;\n",
       "    }\n",
       "</style>\n",
       "<table border=\"1\" class=\"dataframe\">\n",
       "  <thead>\n",
       "    <tr style=\"text-align: right;\">\n",
       "      <th></th>\n",
       "      <th>poll</th>\n",
       "      <th>saidi</th>\n",
       "      <th>scandinavia</th>\n",
       "    </tr>\n",
       "  </thead>\n",
       "  <tbody>\n",
       "    <tr>\n",
       "      <th>Austria</th>\n",
       "      <td>6.5798</td>\n",
       "      <td>54.86</td>\n",
       "      <td>0.0</td>\n",
       "    </tr>\n",
       "    <tr>\n",
       "      <th>Bulgaria</th>\n",
       "      <td>4.34192</td>\n",
       "      <td>291.30</td>\n",
       "      <td>0.0</td>\n",
       "    </tr>\n",
       "    <tr>\n",
       "      <th>Croatia</th>\n",
       "      <td>5.60578</td>\n",
       "      <td>412.24</td>\n",
       "      <td>0.0</td>\n",
       "    </tr>\n",
       "    <tr>\n",
       "      <th>Czech Republic</th>\n",
       "      <td>6.39604</td>\n",
       "      <td>258.29</td>\n",
       "      <td>0.0</td>\n",
       "    </tr>\n",
       "    <tr>\n",
       "      <th>Denmark</th>\n",
       "      <td>6.69314</td>\n",
       "      <td>19.38</td>\n",
       "      <td>1.0</td>\n",
       "    </tr>\n",
       "    <tr>\n",
       "      <th>Estonia</th>\n",
       "      <td>5.56043</td>\n",
       "      <td>222.23</td>\n",
       "      <td>0.0</td>\n",
       "    </tr>\n",
       "    <tr>\n",
       "      <th>Finland</th>\n",
       "      <td>6.6875</td>\n",
       "      <td>80.56</td>\n",
       "      <td>1.0</td>\n",
       "    </tr>\n",
       "    <tr>\n",
       "      <th>France</th>\n",
       "      <td>6.51279</td>\n",
       "      <td>70.50</td>\n",
       "      <td>0.0</td>\n",
       "    </tr>\n",
       "    <tr>\n",
       "      <th>Germany</th>\n",
       "      <td>6.3873</td>\n",
       "      <td>23.55</td>\n",
       "      <td>0.0</td>\n",
       "    </tr>\n",
       "    <tr>\n",
       "      <th>Greece</th>\n",
       "      <td>5.18769</td>\n",
       "      <td>244.00</td>\n",
       "      <td>0.0</td>\n",
       "    </tr>\n",
       "    <tr>\n",
       "      <th>Hungary</th>\n",
       "      <td>5.72798</td>\n",
       "      <td>216.00</td>\n",
       "      <td>0.0</td>\n",
       "    </tr>\n",
       "    <tr>\n",
       "      <th>Ireland</th>\n",
       "      <td>6.42144</td>\n",
       "      <td>152.40</td>\n",
       "      <td>0.0</td>\n",
       "    </tr>\n",
       "    <tr>\n",
       "      <th>Italy</th>\n",
       "      <td>5.91924</td>\n",
       "      <td>143.74</td>\n",
       "      <td>0.0</td>\n",
       "    </tr>\n",
       "    <tr>\n",
       "      <th>Latvia</th>\n",
       "      <td>5.55839</td>\n",
       "      <td>286.00</td>\n",
       "      <td>0.0</td>\n",
       "    </tr>\n",
       "    <tr>\n",
       "      <th>Lithuania</th>\n",
       "      <td>5.55513</td>\n",
       "      <td>345.96</td>\n",
       "      <td>0.0</td>\n",
       "    </tr>\n",
       "    <tr>\n",
       "      <th>Luxembourg</th>\n",
       "      <td>6.5603</td>\n",
       "      <td>21.84</td>\n",
       "      <td>0.0</td>\n",
       "    </tr>\n",
       "    <tr>\n",
       "      <th>Malta</th>\n",
       "      <td>4.46669</td>\n",
       "      <td>163.82</td>\n",
       "      <td>0.0</td>\n",
       "    </tr>\n",
       "    <tr>\n",
       "      <th>Norway</th>\n",
       "      <td>6.66113</td>\n",
       "      <td>128.83</td>\n",
       "      <td>1.0</td>\n",
       "    </tr>\n",
       "    <tr>\n",
       "      <th>Poland</th>\n",
       "      <td>5.49516</td>\n",
       "      <td>272.00</td>\n",
       "      <td>0.0</td>\n",
       "    </tr>\n",
       "    <tr>\n",
       "      <th>Portugal</th>\n",
       "      <td>6.10248</td>\n",
       "      <td>77.65</td>\n",
       "      <td>0.0</td>\n",
       "    </tr>\n",
       "    <tr>\n",
       "      <th>Romania</th>\n",
       "      <td>4.51719</td>\n",
       "      <td>555.00</td>\n",
       "      <td>0.0</td>\n",
       "    </tr>\n",
       "    <tr>\n",
       "      <th>Slovenia</th>\n",
       "      <td>6.09591</td>\n",
       "      <td>191.92</td>\n",
       "      <td>0.0</td>\n",
       "    </tr>\n",
       "    <tr>\n",
       "      <th>Spain</th>\n",
       "      <td>6.21424</td>\n",
       "      <td>65.82</td>\n",
       "      <td>0.0</td>\n",
       "    </tr>\n",
       "    <tr>\n",
       "      <th>Sweden</th>\n",
       "      <td>6.49728</td>\n",
       "      <td>94.42</td>\n",
       "      <td>1.0</td>\n",
       "    </tr>\n",
       "    <tr>\n",
       "      <th>Switzerland</th>\n",
       "      <td>6.83549</td>\n",
       "      <td>19.00</td>\n",
       "      <td>0.0</td>\n",
       "    </tr>\n",
       "  </tbody>\n",
       "</table>\n",
       "</div>"
      ],
      "text/plain": [
       "                   poll   saidi  scandinavia\n",
       "Austria          6.5798   54.86          0.0\n",
       "Bulgaria        4.34192  291.30          0.0\n",
       "Croatia         5.60578  412.24          0.0\n",
       "Czech Republic  6.39604  258.29          0.0\n",
       "Denmark         6.69314   19.38          1.0\n",
       "Estonia         5.56043  222.23          0.0\n",
       "Finland          6.6875   80.56          1.0\n",
       "France          6.51279   70.50          0.0\n",
       "Germany          6.3873   23.55          0.0\n",
       "Greece          5.18769  244.00          0.0\n",
       "Hungary         5.72798  216.00          0.0\n",
       "Ireland         6.42144  152.40          0.0\n",
       "Italy           5.91924  143.74          0.0\n",
       "Latvia          5.55839  286.00          0.0\n",
       "Lithuania       5.55513  345.96          0.0\n",
       "Luxembourg       6.5603   21.84          0.0\n",
       "Malta           4.46669  163.82          0.0\n",
       "Norway          6.66113  128.83          1.0\n",
       "Poland          5.49516  272.00          0.0\n",
       "Portugal        6.10248   77.65          0.0\n",
       "Romania         4.51719  555.00          0.0\n",
       "Slovenia        6.09591  191.92          0.0\n",
       "Spain           6.21424   65.82          0.0\n",
       "Sweden          6.49728   94.42          1.0\n",
       "Switzerland     6.83549   19.00          0.0"
      ]
     },
     "execution_count": 19,
     "metadata": {},
     "output_type": "execute_result"
    }
   ],
   "source": [
    "df_compare16"
   ]
  },
  {
   "cell_type": "code",
   "execution_count": 20,
   "metadata": {},
   "outputs": [],
   "source": [
    "sns.set_style('whitegrid')"
   ]
  },
  {
   "cell_type": "markdown",
   "metadata": {},
   "source": [
    "Below is a scatterplot with perceived quality on axis y and intervention duration (saidi) on axis x. Two linear regressions are plotted, for Scandinavian countries (excluding Iceland) and for all the rest"
   ]
  },
  {
   "cell_type": "code",
   "execution_count": 21,
   "metadata": {},
   "outputs": [
    {
     "data": {
      "text/plain": [
       "<seaborn.axisgrid.FacetGrid at 0x1b9f2c8aac8>"
      ]
     },
     "execution_count": 21,
     "metadata": {},
     "output_type": "execute_result"
    },
    {
     "data": {
      "image/png": "[encoded data removed]",
      "text/plain": [
       "<Figure size 421.375x360 with 1 Axes>"
      ]
     },
     "metadata": {},
     "output_type": "display_data"
    }
   ],
   "source": [
    "sns.lmplot(x = 'saidi', y = 'poll', data = df_compare16, hue = 'scandinavia')"
   ]
  },
  {
   "cell_type": "markdown",
   "metadata": {},
   "source": [
    "For both Scandi and non-Scandi countries the higher is SAIDI the lower is percieved quality. The relationship seems to be quite linear, which is good news for linear modeling of the data"
   ]
  },
  {
   "cell_type": "markdown",
   "metadata": {},
   "source": [
    "It can be noticd that in fact the linear approximation for Scandinavian countries is above that of non-Scandinavians, indicating that **it does look like Scandinavians are overly positive about how good is their electrical supply**"
   ]
  },
  {
   "cell_type": "markdown",
   "metadata": {},
   "source": [
    "Let's do some more visualisatoins. This time I create linear model using **sci-kit learn**. This time there's one approximating line for all of the points."
   ]
  },
  {
   "cell_type": "code",
   "execution_count": 22,
   "metadata": {},
   "outputs": [],
   "source": [
    "from sklearn.linear_model import LinearRegression"
   ]
  },
  {
   "cell_type": "code",
   "execution_count": 23,
   "metadata": {},
   "outputs": [],
   "source": [
    "x16 = df_compare16[['saidi']]\n",
    "y16 = df_compare16['poll']"
   ]
  },
  {
   "cell_type": "code",
   "execution_count": 24,
   "metadata": {},
   "outputs": [],
   "source": [
    "x15 = df_compare15[['saidi']]\n",
    "y15 = df_compare15['poll']"
   ]
  },
  {
   "cell_type": "code",
   "execution_count": 25,
   "metadata": {},
   "outputs": [],
   "source": [
    "lm16 = LinearRegression()"
   ]
  },
  {
   "cell_type": "code",
   "execution_count": 26,
   "metadata": {},
   "outputs": [
    {
     "data": {
      "text/plain": [
       "LinearRegression(copy_X=True, fit_intercept=True, n_jobs=None, normalize=False)"
      ]
     },
     "execution_count": 26,
     "metadata": {},
     "output_type": "execute_result"
    }
   ],
   "source": [
    "lm15 = LinearRegression()\n",
    "lm15.fit(x15,y15)"
   ]
  },
  {
   "cell_type": "code",
   "execution_count": 27,
   "metadata": {},
   "outputs": [
    {
     "data": {
      "text/plain": [
       "LinearRegression(copy_X=True, fit_intercept=True, n_jobs=None, normalize=False)"
      ]
     },
     "execution_count": 27,
     "metadata": {},
     "output_type": "execute_result"
    }
   ],
   "source": [
    "lm16.fit(x16,y16)"
   ]
  },
  {
   "cell_type": "code",
   "execution_count": 28,
   "metadata": {},
   "outputs": [],
   "source": [
    "lm16.coef_, lm16.intercept_\n",
    "xline16 = np.linspace(0,600)"
   ]
  },
  {
   "cell_type": "code",
   "execution_count": 29,
   "metadata": {},
   "outputs": [],
   "source": [
    "yline16 = lm16.intercept_ + lm16.coef_*xline16"
   ]
  },
  {
   "cell_type": "code",
   "execution_count": 30,
   "metadata": {},
   "outputs": [
    {
     "data": {
      "text/plain": [
       "<matplotlib.axes._subplots.AxesSubplot at 0x1b9f531a978>"
      ]
     },
     "execution_count": 30,
     "metadata": {},
     "output_type": "execute_result"
    },
    {
     "data": {
      "image/png": "[encoded data removed]",
      "text/plain": [
       "<Figure size 648x432 with 1 Axes>"
      ]
     },
     "metadata": {},
     "output_type": "display_data"
    }
   ],
   "source": [
    "plt.figure(figsize=(9,6))\n",
    "plt.plot(xline16, yline16, 'k--')\n",
    "sns.scatterplot(y = 'poll',x = 'saidi', data = df_compare16, hue = 'scandinavia')"
   ]
  },
  {
   "cell_type": "code",
   "execution_count": 31,
   "metadata": {},
   "outputs": [],
   "source": [
    "ypred16 = lm16.predict(df_compare16[['saidi']])\n",
    "ypred15 = lm15.predict(df_compare15[['saidi']])"
   ]
  },
  {
   "cell_type": "markdown",
   "metadata": {},
   "source": [
    "Now let's plot out how much each country is under/over estimating their el. supply quality according to the values predicted by the linear model"
   ]
  },
  {
   "cell_type": "code",
   "execution_count": 32,
   "metadata": {},
   "outputs": [],
   "source": [
    "alpha2s = [pycountry.countries.get(name = country).alpha_2 if country != 'Czech Republic' else pycountry.countries.get(name = 'Czechia').alpha_2 for country in df_compare16.index[:]]"
   ]
  },
  {
   "cell_type": "code",
   "execution_count": 33,
   "metadata": {},
   "outputs": [],
   "source": [
    "df_compare16_old_index = copy.deepcopy(df_compare16)"
   ]
  },
  {
   "cell_type": "code",
   "execution_count": 34,
   "metadata": {},
   "outputs": [],
   "source": [
    "df_compare15_old_index = copy.deepcopy(df_compare15)"
   ]
  },
  {
   "cell_type": "code",
   "execution_count": 35,
   "metadata": {},
   "outputs": [],
   "source": [
    "df_compare16.index = alpha2s"
   ]
  },
  {
   "cell_type": "code",
   "execution_count": 36,
   "metadata": {},
   "outputs": [
    {
     "data": {
      "text/plain": [
       "<matplotlib.axes._subplots.AxesSubplot at 0x1b9f5746fd0>"
      ]
     },
     "execution_count": 36,
     "metadata": {},
     "output_type": "execute_result"
    },
    {
     "data": {
      "image/png": "[encoded data removed]",
      "text/plain": [
       "<Figure size 1296x576 with 1 Axes>"
      ]
     },
     "metadata": {},
     "output_type": "display_data"
    }
   ],
   "source": [
    "sns.set_context('notebook')\n",
    "plt.figure(figsize = (18,8))\n",
    "sns.barplot(x = df_compare16.index, y = df_compare16['poll'] - ypred16, hue = df_compare16['scandinavia'])"
   ]
  },
  {
   "cell_type": "markdown",
   "metadata": {},
   "source": [
    "As can be seen all scandinavian countries are in the overestimator camp. The same happens while using data from years starting from 2012 up to 2016"
   ]
  },
  {
   "cell_type": "markdown",
   "metadata": {},
   "source": [
    "Now here's the tricky part. At this point there's is no real reason to assume that deviations from the linear model (be it positive or negative) have anything to do with general tendencies of people in different countries to report biased values. For all we know these deviations are random, or for example are a result of different ways of measuring SAIDI (more on that on p. 10 of [this](https://www.ceer.eu/documents/104400/-/-/963153e6-2f42-78eb-22a4-06f1552dd34c) document)"
   ]
  },
  {
   "cell_type": "markdown",
   "metadata": {},
   "source": [
    "To learn if there's in fact any good reason to asume that, let's consider World Happiness Report data"
   ]
  },
  {
   "cell_type": "markdown",
   "metadata": {},
   "source": [
    "## [World Happiness Report](https://worldhappiness.report/)"
   ]
  },
  {
   "cell_type": "markdown",
   "metadata": {},
   "source": [
    "This is a yearly survey. Thousands of people are surveyed.  **Respondents are asked to think of a ladder, with the best possible life for them being a 10, and the worst possible life being a 0. They are then asked to rate their own current lives on that 0 to 10 scale.**"
   ]
  },
  {
   "cell_type": "markdown",
   "metadata": {},
   "source": [
    "Hear are first several rows of the 2015 survey"
   ]
  },
  {
   "cell_type": "code",
   "execution_count": 37,
   "metadata": {},
   "outputs": [
    {
     "data": {
      "text/html": [
       "<div>\n",
       "<style scoped>\n",
       "    .dataframe tbody tr th:only-of-type {\n",
       "        vertical-align: middle;\n",
       "    }\n",
       "\n",
       "    .dataframe tbody tr th {\n",
       "        vertical-align: top;\n",
       "    }\n",
       "\n",
       "    .dataframe thead th {\n",
       "        text-align: right;\n",
       "    }\n",
       "</style>\n",
       "<table border=\"1\" class=\"dataframe\">\n",
       "  <thead>\n",
       "    <tr style=\"text-align: right;\">\n",
       "      <th></th>\n",
       "      <th>Country</th>\n",
       "      <th>Region</th>\n",
       "      <th>Happiness Rank</th>\n",
       "      <th>Happiness Score</th>\n",
       "      <th>Standard Error</th>\n",
       "      <th>Economy (GDP per Capita)</th>\n",
       "      <th>Family</th>\n",
       "      <th>Health (Life Expectancy)</th>\n",
       "      <th>Freedom</th>\n",
       "      <th>Trust (Government Corruption)</th>\n",
       "      <th>Generosity</th>\n",
       "      <th>Dystopia Residual</th>\n",
       "    </tr>\n",
       "  </thead>\n",
       "  <tbody>\n",
       "    <tr>\n",
       "      <th>0</th>\n",
       "      <td>Switzerland</td>\n",
       "      <td>Western Europe</td>\n",
       "      <td>1</td>\n",
       "      <td>7.587</td>\n",
       "      <td>0.03411</td>\n",
       "      <td>1.39651</td>\n",
       "      <td>1.34951</td>\n",
       "      <td>0.94143</td>\n",
       "      <td>0.66557</td>\n",
       "      <td>0.41978</td>\n",
       "      <td>0.29678</td>\n",
       "      <td>2.51738</td>\n",
       "    </tr>\n",
       "    <tr>\n",
       "      <th>1</th>\n",
       "      <td>Iceland</td>\n",
       "      <td>Western Europe</td>\n",
       "      <td>2</td>\n",
       "      <td>7.561</td>\n",
       "      <td>0.04884</td>\n",
       "      <td>1.30232</td>\n",
       "      <td>1.40223</td>\n",
       "      <td>0.94784</td>\n",
       "      <td>0.62877</td>\n",
       "      <td>0.14145</td>\n",
       "      <td>0.43630</td>\n",
       "      <td>2.70201</td>\n",
       "    </tr>\n",
       "    <tr>\n",
       "      <th>2</th>\n",
       "      <td>Denmark</td>\n",
       "      <td>Western Europe</td>\n",
       "      <td>3</td>\n",
       "      <td>7.527</td>\n",
       "      <td>0.03328</td>\n",
       "      <td>1.32548</td>\n",
       "      <td>1.36058</td>\n",
       "      <td>0.87464</td>\n",
       "      <td>0.64938</td>\n",
       "      <td>0.48357</td>\n",
       "      <td>0.34139</td>\n",
       "      <td>2.49204</td>\n",
       "    </tr>\n",
       "    <tr>\n",
       "      <th>3</th>\n",
       "      <td>Norway</td>\n",
       "      <td>Western Europe</td>\n",
       "      <td>4</td>\n",
       "      <td>7.522</td>\n",
       "      <td>0.03880</td>\n",
       "      <td>1.45900</td>\n",
       "      <td>1.33095</td>\n",
       "      <td>0.88521</td>\n",
       "      <td>0.66973</td>\n",
       "      <td>0.36503</td>\n",
       "      <td>0.34699</td>\n",
       "      <td>2.46531</td>\n",
       "    </tr>\n",
       "    <tr>\n",
       "      <th>4</th>\n",
       "      <td>Canada</td>\n",
       "      <td>North America</td>\n",
       "      <td>5</td>\n",
       "      <td>7.427</td>\n",
       "      <td>0.03553</td>\n",
       "      <td>1.32629</td>\n",
       "      <td>1.32261</td>\n",
       "      <td>0.90563</td>\n",
       "      <td>0.63297</td>\n",
       "      <td>0.32957</td>\n",
       "      <td>0.45811</td>\n",
       "      <td>2.45176</td>\n",
       "    </tr>\n",
       "    <tr>\n",
       "      <th>5</th>\n",
       "      <td>Finland</td>\n",
       "      <td>Western Europe</td>\n",
       "      <td>6</td>\n",
       "      <td>7.406</td>\n",
       "      <td>0.03140</td>\n",
       "      <td>1.29025</td>\n",
       "      <td>1.31826</td>\n",
       "      <td>0.88911</td>\n",
       "      <td>0.64169</td>\n",
       "      <td>0.41372</td>\n",
       "      <td>0.23351</td>\n",
       "      <td>2.61955</td>\n",
       "    </tr>\n",
       "    <tr>\n",
       "      <th>6</th>\n",
       "      <td>Netherlands</td>\n",
       "      <td>Western Europe</td>\n",
       "      <td>7</td>\n",
       "      <td>7.378</td>\n",
       "      <td>0.02799</td>\n",
       "      <td>1.32944</td>\n",
       "      <td>1.28017</td>\n",
       "      <td>0.89284</td>\n",
       "      <td>0.61576</td>\n",
       "      <td>0.31814</td>\n",
       "      <td>0.47610</td>\n",
       "      <td>2.46570</td>\n",
       "    </tr>\n",
       "    <tr>\n",
       "      <th>7</th>\n",
       "      <td>Sweden</td>\n",
       "      <td>Western Europe</td>\n",
       "      <td>8</td>\n",
       "      <td>7.364</td>\n",
       "      <td>0.03157</td>\n",
       "      <td>1.33171</td>\n",
       "      <td>1.28907</td>\n",
       "      <td>0.91087</td>\n",
       "      <td>0.65980</td>\n",
       "      <td>0.43844</td>\n",
       "      <td>0.36262</td>\n",
       "      <td>2.37119</td>\n",
       "    </tr>\n",
       "    <tr>\n",
       "      <th>8</th>\n",
       "      <td>New Zealand</td>\n",
       "      <td>Australia and New Zealand</td>\n",
       "      <td>9</td>\n",
       "      <td>7.286</td>\n",
       "      <td>0.03371</td>\n",
       "      <td>1.25018</td>\n",
       "      <td>1.31967</td>\n",
       "      <td>0.90837</td>\n",
       "      <td>0.63938</td>\n",
       "      <td>0.42922</td>\n",
       "      <td>0.47501</td>\n",
       "      <td>2.26425</td>\n",
       "    </tr>\n",
       "    <tr>\n",
       "      <th>9</th>\n",
       "      <td>Australia</td>\n",
       "      <td>Australia and New Zealand</td>\n",
       "      <td>10</td>\n",
       "      <td>7.284</td>\n",
       "      <td>0.04083</td>\n",
       "      <td>1.33358</td>\n",
       "      <td>1.30923</td>\n",
       "      <td>0.93156</td>\n",
       "      <td>0.65124</td>\n",
       "      <td>0.35637</td>\n",
       "      <td>0.43562</td>\n",
       "      <td>2.26646</td>\n",
       "    </tr>\n",
       "  </tbody>\n",
       "</table>\n",
       "</div>"
      ],
      "text/plain": [
       "       Country                     Region  Happiness Rank  Happiness Score  \\\n",
       "0  Switzerland             Western Europe               1            7.587   \n",
       "1      Iceland             Western Europe               2            7.561   \n",
       "2      Denmark             Western Europe               3            7.527   \n",
       "3       Norway             Western Europe               4            7.522   \n",
       "4       Canada              North America               5            7.427   \n",
       "5      Finland             Western Europe               6            7.406   \n",
       "6  Netherlands             Western Europe               7            7.378   \n",
       "7       Sweden             Western Europe               8            7.364   \n",
       "8  New Zealand  Australia and New Zealand               9            7.286   \n",
       "9    Australia  Australia and New Zealand              10            7.284   \n",
       "\n",
       "   Standard Error  Economy (GDP per Capita)   Family  \\\n",
       "0         0.03411                   1.39651  1.34951   \n",
       "1         0.04884                   1.30232  1.40223   \n",
       "2         0.03328                   1.32548  1.36058   \n",
       "3         0.03880                   1.45900  1.33095   \n",
       "4         0.03553                   1.32629  1.32261   \n",
       "5         0.03140                   1.29025  1.31826   \n",
       "6         0.02799                   1.32944  1.28017   \n",
       "7         0.03157                   1.33171  1.28907   \n",
       "8         0.03371                   1.25018  1.31967   \n",
       "9         0.04083                   1.33358  1.30923   \n",
       "\n",
       "   Health (Life Expectancy)  Freedom  Trust (Government Corruption)  \\\n",
       "0                   0.94143  0.66557                        0.41978   \n",
       "1                   0.94784  0.62877                        0.14145   \n",
       "2                   0.87464  0.64938                        0.48357   \n",
       "3                   0.88521  0.66973                        0.36503   \n",
       "4                   0.90563  0.63297                        0.32957   \n",
       "5                   0.88911  0.64169                        0.41372   \n",
       "6                   0.89284  0.61576                        0.31814   \n",
       "7                   0.91087  0.65980                        0.43844   \n",
       "8                   0.90837  0.63938                        0.42922   \n",
       "9                   0.93156  0.65124                        0.35637   \n",
       "\n",
       "   Generosity  Dystopia Residual  \n",
       "0     0.29678            2.51738  \n",
       "1     0.43630            2.70201  \n",
       "2     0.34139            2.49204  \n",
       "3     0.34699            2.46531  \n",
       "4     0.45811            2.45176  \n",
       "5     0.23351            2.61955  \n",
       "6     0.47610            2.46570  \n",
       "7     0.36262            2.37119  \n",
       "8     0.47501            2.26425  \n",
       "9     0.43562            2.26646  "
      ]
     },
     "execution_count": 37,
     "metadata": {},
     "output_type": "execute_result"
    }
   ],
   "source": [
    "whr2015 = pd.read_csv('whr2015.csv')\n",
    "whr2015.head(10)"
   ]
  },
  {
   "cell_type": "markdown",
   "metadata": {},
   "source": [
    "*Note: The \"Dystopia Residual\" is a result of machine learning model constructed by creators of WHR. In this model Happiness Score is being predicted by the rest of the 6 columns (Economy, Family, Health, Freedom, Trust, Generosity).\n",
    "Dystopia is a hypothetical country with values of all for all 6 columns as low as the lowest values for any of the real countries. Dystopian happiness Score is around 1.9 (depending on a year). If this dystopian happiness score is added to the score predicted by the WHR model for each country there is still some residual happiness value. This values is a difference between predicted by the models happpiness score and actual happiness score. In World Happiness Report this value is called residual. This is a deviation that couldn't be predicted by the WHR model. Otherwise called unexplained happiness*"
   ]
  },
  {
   "cell_type": "markdown",
   "metadata": {},
   "source": [
    "After more data manimupation a dataframe with columns signifying happiness and dystopian residuals for two years(2015 and 2016) was created and named **whr**"
   ]
  },
  {
   "cell_type": "code",
   "execution_count": 38,
   "metadata": {},
   "outputs": [],
   "source": [
    "whr2016 = pd.read_csv('whr2016.csv')"
   ]
  },
  {
   "cell_type": "code",
   "execution_count": 39,
   "metadata": {},
   "outputs": [],
   "source": [
    "whr = whr2015[['Country','Happiness Score', 'Dystopia Residual']].merge(right = whr2016[['Country','Happiness Score', 'Dystopia Residual']], on= 'Country')\n",
    "whr.set_index('Country', inplace=True)\n",
    "whr.columns = ['Score 2015','Dyst Res 2015', 'Score 2016','Dyst Res 2016']"
   ]
  },
  {
   "cell_type": "code",
   "execution_count": 40,
   "metadata": {},
   "outputs": [
    {
     "data": {
      "text/html": [
       "<div>\n",
       "<style scoped>\n",
       "    .dataframe tbody tr th:only-of-type {\n",
       "        vertical-align: middle;\n",
       "    }\n",
       "\n",
       "    .dataframe tbody tr th {\n",
       "        vertical-align: top;\n",
       "    }\n",
       "\n",
       "    .dataframe thead th {\n",
       "        text-align: right;\n",
       "    }\n",
       "</style>\n",
       "<table border=\"1\" class=\"dataframe\">\n",
       "  <thead>\n",
       "    <tr style=\"text-align: right;\">\n",
       "      <th></th>\n",
       "      <th>Score 2015</th>\n",
       "      <th>Dyst Res 2015</th>\n",
       "      <th>Score 2016</th>\n",
       "      <th>Dyst Res 2016</th>\n",
       "    </tr>\n",
       "    <tr>\n",
       "      <th>Country</th>\n",
       "      <th></th>\n",
       "      <th></th>\n",
       "      <th></th>\n",
       "      <th></th>\n",
       "    </tr>\n",
       "  </thead>\n",
       "  <tbody>\n",
       "    <tr>\n",
       "      <th>Switzerland</th>\n",
       "      <td>7.587</td>\n",
       "      <td>2.51738</td>\n",
       "      <td>7.509</td>\n",
       "      <td>2.69463</td>\n",
       "    </tr>\n",
       "    <tr>\n",
       "      <th>Iceland</th>\n",
       "      <td>7.561</td>\n",
       "      <td>2.70201</td>\n",
       "      <td>7.501</td>\n",
       "      <td>2.83137</td>\n",
       "    </tr>\n",
       "    <tr>\n",
       "      <th>Denmark</th>\n",
       "      <td>7.527</td>\n",
       "      <td>2.49204</td>\n",
       "      <td>7.526</td>\n",
       "      <td>2.73939</td>\n",
       "    </tr>\n",
       "    <tr>\n",
       "      <th>Norway</th>\n",
       "      <td>7.522</td>\n",
       "      <td>2.46531</td>\n",
       "      <td>7.498</td>\n",
       "      <td>2.66465</td>\n",
       "    </tr>\n",
       "    <tr>\n",
       "      <th>Canada</th>\n",
       "      <td>7.427</td>\n",
       "      <td>2.45176</td>\n",
       "      <td>7.404</td>\n",
       "      <td>2.70485</td>\n",
       "    </tr>\n",
       "    <tr>\n",
       "      <th>Finland</th>\n",
       "      <td>7.406</td>\n",
       "      <td>2.61955</td>\n",
       "      <td>7.413</td>\n",
       "      <td>2.82596</td>\n",
       "    </tr>\n",
       "    <tr>\n",
       "      <th>Netherlands</th>\n",
       "      <td>7.378</td>\n",
       "      <td>2.46570</td>\n",
       "      <td>7.339</td>\n",
       "      <td>2.70749</td>\n",
       "    </tr>\n",
       "    <tr>\n",
       "      <th>Sweden</th>\n",
       "      <td>7.364</td>\n",
       "      <td>2.37119</td>\n",
       "      <td>7.291</td>\n",
       "      <td>2.54734</td>\n",
       "    </tr>\n",
       "    <tr>\n",
       "      <th>New Zealand</th>\n",
       "      <td>7.286</td>\n",
       "      <td>2.26425</td>\n",
       "      <td>7.334</td>\n",
       "      <td>2.47553</td>\n",
       "    </tr>\n",
       "    <tr>\n",
       "      <th>Australia</th>\n",
       "      <td>7.284</td>\n",
       "      <td>2.26646</td>\n",
       "      <td>7.313</td>\n",
       "      <td>2.54650</td>\n",
       "    </tr>\n",
       "  </tbody>\n",
       "</table>\n",
       "</div>"
      ],
      "text/plain": [
       "             Score 2015  Dyst Res 2015  Score 2016  Dyst Res 2016\n",
       "Country                                                          \n",
       "Switzerland       7.587        2.51738       7.509        2.69463\n",
       "Iceland           7.561        2.70201       7.501        2.83137\n",
       "Denmark           7.527        2.49204       7.526        2.73939\n",
       "Norway            7.522        2.46531       7.498        2.66465\n",
       "Canada            7.427        2.45176       7.404        2.70485\n",
       "Finland           7.406        2.61955       7.413        2.82596\n",
       "Netherlands       7.378        2.46570       7.339        2.70749\n",
       "Sweden            7.364        2.37119       7.291        2.54734\n",
       "New Zealand       7.286        2.26425       7.334        2.47553\n",
       "Australia         7.284        2.26646       7.313        2.54650"
      ]
     },
     "execution_count": 40,
     "metadata": {},
     "output_type": "execute_result"
    }
   ],
   "source": [
    "# top (according to 2015 scores) 10 rows of the whr dataframe\n",
    "whr.head(10)"
   ]
  },
  {
   "cell_type": "markdown",
   "metadata": {},
   "source": [
    "*Note: all of Scandinavian countries are near the top*"
   ]
  },
  {
   "cell_type": "markdown",
   "metadata": {},
   "source": [
    "Next, residual is extracted from dystopian residual column by subtracting average value of it. After that, the biases that were extracted from analysis of quality of electricity are put in the dataframe together with residuals. These biases (from the barplot above) are presented in columns positivity 2015 and positivity 2016 of the dataframe **final_compare**"
   ]
  },
  {
   "cell_type": "code",
   "execution_count": 41,
   "metadata": {},
   "outputs": [],
   "source": [
    "whr['residual 2015'] = whr['Dyst Res 2015'] - whr['Dyst Res 2015'].mean()"
   ]
  },
  {
   "cell_type": "code",
   "execution_count": 42,
   "metadata": {},
   "outputs": [],
   "source": [
    "whr['residual 2016'] = whr['Dyst Res 2016'] - whr['Dyst Res 2016'].mean()"
   ]
  },
  {
   "cell_type": "code",
   "execution_count": 43,
   "metadata": {},
   "outputs": [],
   "source": [
    "elpos16 = df_compare16_old_index['poll'] - ypred16\n",
    "elpos15 = df_compare15_old_index['poll'] - ypred15"
   ]
  },
  {
   "cell_type": "code",
   "execution_count": 44,
   "metadata": {},
   "outputs": [],
   "source": [
    "final_compare = whr[['residual 2015','residual 2016']]\n",
    "final_compare = final_compare.merge(right=elpos15.to_frame(), left_index = True, right_index = True)\n",
    "final_compare.rename(columns={'poll':'positivity 2015'}, inplace=True)"
   ]
  },
  {
   "cell_type": "code",
   "execution_count": 45,
   "metadata": {},
   "outputs": [],
   "source": [
    "final_compare = final_compare.merge(right=elpos16.to_frame(), left_index = True, right_index = True)\n",
    "final_compare.rename(columns={'poll':'positivity 2016'}, inplace=True)"
   ]
  },
  {
   "cell_type": "code",
   "execution_count": 46,
   "metadata": {},
   "outputs": [],
   "source": [
    "final_compare = final_compare.merge(right=df_compare16_old_index['scandinavia'].to_frame(), left_index = True, right_index = True)"
   ]
  },
  {
   "cell_type": "code",
   "execution_count": 47,
   "metadata": {},
   "outputs": [
    {
     "data": {
      "text/html": [
       "<div>\n",
       "<style scoped>\n",
       "    .dataframe tbody tr th:only-of-type {\n",
       "        vertical-align: middle;\n",
       "    }\n",
       "\n",
       "    .dataframe tbody tr th {\n",
       "        vertical-align: top;\n",
       "    }\n",
       "\n",
       "    .dataframe thead th {\n",
       "        text-align: right;\n",
       "    }\n",
       "</style>\n",
       "<table border=\"1\" class=\"dataframe\">\n",
       "  <thead>\n",
       "    <tr style=\"text-align: right;\">\n",
       "      <th></th>\n",
       "      <th>residual 2015</th>\n",
       "      <th>residual 2016</th>\n",
       "      <th>positivity 2015</th>\n",
       "      <th>positivity 2016</th>\n",
       "      <th>scandinavia</th>\n",
       "    </tr>\n",
       "  </thead>\n",
       "  <tbody>\n",
       "    <tr>\n",
       "      <th>Switzerland</th>\n",
       "      <td>0.438286</td>\n",
       "      <td>0.387632</td>\n",
       "      <td>0.187147</td>\n",
       "      <td>0.272308</td>\n",
       "      <td>0.0</td>\n",
       "    </tr>\n",
       "    <tr>\n",
       "      <th>Denmark</th>\n",
       "      <td>0.412946</td>\n",
       "      <td>0.432392</td>\n",
       "      <td>0.098548</td>\n",
       "      <td>0.131454</td>\n",
       "      <td>1.0</td>\n",
       "    </tr>\n",
       "    <tr>\n",
       "      <th>Norway</th>\n",
       "      <td>0.386216</td>\n",
       "      <td>0.357652</td>\n",
       "      <td>0.650719</td>\n",
       "      <td>0.530402</td>\n",
       "      <td>1.0</td>\n",
       "    </tr>\n",
       "    <tr>\n",
       "      <th>Finland</th>\n",
       "      <td>0.540456</td>\n",
       "      <td>0.518962</td>\n",
       "      <td>0.670901</td>\n",
       "      <td>0.366709</td>\n",
       "      <td>1.0</td>\n",
       "    </tr>\n",
       "    <tr>\n",
       "      <th>Sweden</th>\n",
       "      <td>0.292096</td>\n",
       "      <td>0.240342</td>\n",
       "      <td>0.109854</td>\n",
       "      <td>0.231067</td>\n",
       "      <td>1.0</td>\n",
       "    </tr>\n",
       "    <tr>\n",
       "      <th>Austria</th>\n",
       "      <td>0.454106</td>\n",
       "      <td>0.386432</td>\n",
       "      <td>0.196459</td>\n",
       "      <td>0.157820</td>\n",
       "      <td>0.0</td>\n",
       "    </tr>\n",
       "    <tr>\n",
       "      <th>Luxembourg</th>\n",
       "      <td>-0.109484</td>\n",
       "      <td>-0.196448</td>\n",
       "      <td>0.034089</td>\n",
       "      <td>0.008302</td>\n",
       "      <td>0.0</td>\n",
       "    </tr>\n",
       "    <tr>\n",
       "      <th>Ireland</th>\n",
       "      <td>-0.103394</td>\n",
       "      <td>-0.147118</td>\n",
       "      <td>0.359351</td>\n",
       "      <td>0.383515</td>\n",
       "      <td>0.0</td>\n",
       "    </tr>\n",
       "    <tr>\n",
       "      <th>Germany</th>\n",
       "      <td>0.036596</td>\n",
       "      <td>0.202312</td>\n",
       "      <td>-0.449898</td>\n",
       "      <td>-0.157963</td>\n",
       "      <td>0.0</td>\n",
       "    </tr>\n",
       "    <tr>\n",
       "      <th>France</th>\n",
       "      <td>0.132166</td>\n",
       "      <td>0.167402</td>\n",
       "      <td>0.059698</td>\n",
       "      <td>0.152389</td>\n",
       "      <td>0.0</td>\n",
       "    </tr>\n",
       "    <tr>\n",
       "      <th>Czech Republic</th>\n",
       "      <td>0.598726</td>\n",
       "      <td>0.655112</td>\n",
       "      <td>0.776546</td>\n",
       "      <td>0.775055</td>\n",
       "      <td>0.0</td>\n",
       "    </tr>\n",
       "    <tr>\n",
       "      <th>Spain</th>\n",
       "      <td>0.044576</td>\n",
       "      <td>0.089632</td>\n",
       "      <td>-0.108079</td>\n",
       "      <td>-0.164590</td>\n",
       "      <td>0.0</td>\n",
       "    </tr>\n",
       "    <tr>\n",
       "      <th>Malta</th>\n",
       "      <td>-0.430294</td>\n",
       "      <td>-0.316678</td>\n",
       "      <td>-1.135314</td>\n",
       "      <td>-1.526270</td>\n",
       "      <td>0.0</td>\n",
       "    </tr>\n",
       "    <tr>\n",
       "      <th>Italy</th>\n",
       "      <td>-0.053914</td>\n",
       "      <td>0.042182</td>\n",
       "      <td>-0.063590</td>\n",
       "      <td>-0.152778</td>\n",
       "      <td>0.0</td>\n",
       "    </tr>\n",
       "    <tr>\n",
       "      <th>Slovenia</th>\n",
       "      <td>-0.463264</td>\n",
       "      <td>-0.511778</td>\n",
       "      <td>0.205495</td>\n",
       "      <td>0.213596</td>\n",
       "      <td>0.0</td>\n",
       "    </tr>\n",
       "    <tr>\n",
       "      <th>Lithuania</th>\n",
       "      <td>0.367396</td>\n",
       "      <td>0.298252</td>\n",
       "      <td>-0.052858</td>\n",
       "      <td>0.279340</td>\n",
       "      <td>0.0</td>\n",
       "    </tr>\n",
       "    <tr>\n",
       "      <th>Poland</th>\n",
       "      <td>-0.213444</td>\n",
       "      <td>-0.106648</td>\n",
       "      <td>0.066774</td>\n",
       "      <td>-0.071841</td>\n",
       "      <td>0.0</td>\n",
       "    </tr>\n",
       "    <tr>\n",
       "      <th>Croatia</th>\n",
       "      <td>0.675046</td>\n",
       "      <td>0.217622</td>\n",
       "      <td>0.782103</td>\n",
       "      <td>0.590966</td>\n",
       "      <td>0.0</td>\n",
       "    </tr>\n",
       "    <tr>\n",
       "      <th>Estonia</th>\n",
       "      <td>-0.491274</td>\n",
       "      <td>-0.487148</td>\n",
       "      <td>-0.470293</td>\n",
       "      <td>-0.202538</td>\n",
       "      <td>0.0</td>\n",
       "    </tr>\n",
       "    <tr>\n",
       "      <th>Romania</th>\n",
       "      <td>-0.147804</td>\n",
       "      <td>0.144842</td>\n",
       "      <td>-0.098104</td>\n",
       "      <td>0.064490</td>\n",
       "      <td>0.0</td>\n",
       "    </tr>\n",
       "    <tr>\n",
       "      <th>Portugal</th>\n",
       "      <td>-0.814474</td>\n",
       "      <td>-0.776848</td>\n",
       "      <td>-0.014821</td>\n",
       "      <td>-0.229771</td>\n",
       "      <td>0.0</td>\n",
       "    </tr>\n",
       "    <tr>\n",
       "      <th>Latvia</th>\n",
       "      <td>-0.456944</td>\n",
       "      <td>-0.098408</td>\n",
       "      <td>-0.005974</td>\n",
       "      <td>0.046507</td>\n",
       "      <td>0.0</td>\n",
       "    </tr>\n",
       "    <tr>\n",
       "      <th>Greece</th>\n",
       "      <td>-0.278084</td>\n",
       "      <td>-0.177558</td>\n",
       "      <td>-0.547838</td>\n",
       "      <td>-0.489560</td>\n",
       "      <td>0.0</td>\n",
       "    </tr>\n",
       "    <tr>\n",
       "      <th>Hungary</th>\n",
       "      <td>-0.838354</td>\n",
       "      <td>-0.352268</td>\n",
       "      <td>-0.010464</td>\n",
       "      <td>-0.059522</td>\n",
       "      <td>0.0</td>\n",
       "    </tr>\n",
       "    <tr>\n",
       "      <th>Bulgaria</th>\n",
       "      <td>-1.179184</td>\n",
       "      <td>-1.153228</td>\n",
       "      <td>-1.240452</td>\n",
       "      <td>-1.149086</td>\n",
       "      <td>0.0</td>\n",
       "    </tr>\n",
       "  </tbody>\n",
       "</table>\n",
       "</div>"
      ],
      "text/plain": [
       "                residual 2015  residual 2016  positivity 2015  \\\n",
       "Switzerland          0.438286       0.387632         0.187147   \n",
       "Denmark              0.412946       0.432392         0.098548   \n",
       "Norway               0.386216       0.357652         0.650719   \n",
       "Finland              0.540456       0.518962         0.670901   \n",
       "Sweden               0.292096       0.240342         0.109854   \n",
       "Austria              0.454106       0.386432         0.196459   \n",
       "Luxembourg          -0.109484      -0.196448         0.034089   \n",
       "Ireland             -0.103394      -0.147118         0.359351   \n",
       "Germany              0.036596       0.202312        -0.449898   \n",
       "France               0.132166       0.167402         0.059698   \n",
       "Czech Republic       0.598726       0.655112         0.776546   \n",
       "Spain                0.044576       0.089632        -0.108079   \n",
       "Malta               -0.430294      -0.316678        -1.135314   \n",
       "Italy               -0.053914       0.042182        -0.063590   \n",
       "Slovenia            -0.463264      -0.511778         0.205495   \n",
       "Lithuania            0.367396       0.298252        -0.052858   \n",
       "Poland              -0.213444      -0.106648         0.066774   \n",
       "Croatia              0.675046       0.217622         0.782103   \n",
       "Estonia             -0.491274      -0.487148        -0.470293   \n",
       "Romania             -0.147804       0.144842        -0.098104   \n",
       "Portugal            -0.814474      -0.776848        -0.014821   \n",
       "Latvia              -0.456944      -0.098408        -0.005974   \n",
       "Greece              -0.278084      -0.177558        -0.547838   \n",
       "Hungary             -0.838354      -0.352268        -0.010464   \n",
       "Bulgaria            -1.179184      -1.153228        -1.240452   \n",
       "\n",
       "                positivity 2016  scandinavia  \n",
       "Switzerland            0.272308          0.0  \n",
       "Denmark                0.131454          1.0  \n",
       "Norway                 0.530402          1.0  \n",
       "Finland                0.366709          1.0  \n",
       "Sweden                 0.231067          1.0  \n",
       "Austria                0.157820          0.0  \n",
       "Luxembourg             0.008302          0.0  \n",
       "Ireland                0.383515          0.0  \n",
       "Germany               -0.157963          0.0  \n",
       "France                 0.152389          0.0  \n",
       "Czech Republic         0.775055          0.0  \n",
       "Spain                 -0.164590          0.0  \n",
       "Malta                 -1.526270          0.0  \n",
       "Italy                 -0.152778          0.0  \n",
       "Slovenia               0.213596          0.0  \n",
       "Lithuania              0.279340          0.0  \n",
       "Poland                -0.071841          0.0  \n",
       "Croatia                0.590966          0.0  \n",
       "Estonia               -0.202538          0.0  \n",
       "Romania                0.064490          0.0  \n",
       "Portugal              -0.229771          0.0  \n",
       "Latvia                 0.046507          0.0  \n",
       "Greece                -0.489560          0.0  \n",
       "Hungary               -0.059522          0.0  \n",
       "Bulgaria              -1.149086          0.0  "
      ]
     },
     "execution_count": 47,
     "metadata": {},
     "output_type": "execute_result"
    }
   ],
   "source": [
    "final_compare = final_compare.astype('float64')\n",
    "final_compare"
   ]
  },
  {
   "cell_type": "markdown",
   "metadata": {},
   "source": [
    "Let's draw a scatterplot with residual and positivity on the two axis (for years 2015 and 2016)"
   ]
  },
  {
   "cell_type": "code",
   "execution_count": 48,
   "metadata": {},
   "outputs": [
    {
     "data": {
      "text/plain": [
       "<matplotlib.axes._subplots.AxesSubplot at 0x1b9f5ab8438>"
      ]
     },
     "execution_count": 48,
     "metadata": {},
     "output_type": "execute_result"
    },
    {
     "data": {
      "image/png": "[encoded data removed]",
      "text/plain": [
       "<Figure size 432x288 with 1 Axes>"
      ]
     },
     "metadata": {},
     "output_type": "display_data"
    }
   ],
   "source": [
    "sns.scatterplot(y = final_compare['residual 2016'], x = final_compare['positivity 2016'], hue = final_compare['scandinavia'])"
   ]
  },
  {
   "cell_type": "code",
   "execution_count": 49,
   "metadata": {},
   "outputs": [
    {
     "data": {
      "text/plain": [
       "<matplotlib.axes._subplots.AxesSubplot at 0x1b9f57bd9b0>"
      ]
     },
     "execution_count": 49,
     "metadata": {},
     "output_type": "execute_result"
    },
    {
     "data": {
      "image/png": "[encoded data removed]",
      "text/plain": [
       "<Figure size 432x288 with 1 Axes>"
      ]
     },
     "metadata": {},
     "output_type": "display_data"
    }
   ],
   "source": [
    "sns.scatterplot(y = final_compare['residual 2015'], x = final_compare['positivity 2015'], hue= final_compare['scandinavia'])"
   ]
  },
  {
   "cell_type": "markdown",
   "metadata": {},
   "source": [
    "It can be clearly seen from these graphs that residual and positivity (from the quality of electricity analysis) are visibly correlated with each other."
   ]
  },
  {
   "cell_type": "markdown",
   "metadata": {},
   "source": [
    "In fact the correlation coefficients for data collected in years 2015 and 2016 is as following"
   ]
  },
  {
   "cell_type": "code",
   "execution_count": 50,
   "metadata": {},
   "outputs": [
    {
     "name": "stdout",
     "output_type": "stream",
     "text": [
      "correlation for year 2015 is around 68 %\n"
     ]
    }
   ],
   "source": [
    "corr2015 = final_compare['residual 2015'].corr(final_compare['positivity 2015'])\n",
    "print ('correlation for year 2015 is around',str(int(corr2015*100)),'%')"
   ]
  },
  {
   "cell_type": "code",
   "execution_count": 51,
   "metadata": {},
   "outputs": [
    {
     "name": "stdout",
     "output_type": "stream",
     "text": [
      "correlation for year 2016 is around 66 %\n"
     ]
    }
   ],
   "source": [
    "corr2016 = final_compare['residual 2016'].corr(final_compare['positivity 2016'])\n",
    "print ('correlation for year 2016 is around',str(int(corr2016*100)),'%')"
   ]
  },
  {
   "cell_type": "markdown",
   "metadata": {},
   "source": [
    "Because these two questions (unexplained amount of happiness and positivity in estimating quality of electricity) have pretty much nothing to do with each other (so there shouldn't logically be any causal relationship between them), the conclusion to draw from high correlation of these two variables is that their changes are caused by some third independent variable. A logical candidate for this third variable is a general positivity. A general tendency to overestimate (or underestimate if it's negative) quality of things in peoples lives. If we assume that each country has some amount of this \"positivity\" then it could be included in the models to better predict Happiness Scores for each country."
   ]
  },
  {
   "cell_type": "markdown",
   "metadata": {},
   "source": [
    "To reiterate, the usefulness of including quality of electricity data into the analysis comes from the fact that WHR data on it's own doesn't provide any any insight into what is the cause of residual happiness. After introducing the quality of electricity data, high correlation above suggests that it is possible to explain part of the residual by assigning an abstract positivity term to every country. This will increase explanatory power of models that predict Happiness Scores."
   ]
  },
  {
   "cell_type": "markdown",
   "metadata": {},
   "source": [
    "Since based on the above analysis there is a good reason to believe that positivity of each country is influencing it's happiness score, the hypothesis put forth by Thoughty2 channel that cultural differences may have an effect on happiness rankings gained some additional support."
   ]
  },
  {
   "cell_type": "markdown",
   "metadata": {},
   "source": [
    "*Note: cultural explanation (positivity) is just one of the possible explanations for above correlation. Wording of questions in different languages and many other factors could be at play.*"
   ]
  },
  {
   "cell_type": "markdown",
   "metadata": {},
   "source": [
    "The p value and t statistics describing association of positivity and residual for year 2015 are as following:"
   ]
  },
  {
   "cell_type": "code",
   "execution_count": 52,
   "metadata": {},
   "outputs": [],
   "source": [
    "mod = sm.OLS(final_compare['residual 2015'],final_compare['positivity 2015'])\n",
    "res = mod.fit()"
   ]
  },
  {
   "cell_type": "code",
   "execution_count": 53,
   "metadata": {},
   "outputs": [
    {
     "name": "stdout",
     "output_type": "stream",
     "text": [
      "positivity 2015    0.000109\n",
      "dtype: float64\n"
     ]
    }
   ],
   "source": [
    "print(res.pvalues)"
   ]
  },
  {
   "cell_type": "code",
   "execution_count": 54,
   "metadata": {},
   "outputs": [
    {
     "name": "stdout",
     "output_type": "stream",
     "text": [
      "positivity 2015    4.621563\n",
      "dtype: float64\n"
     ]
    }
   ],
   "source": [
    "print (res.tvalues)"
   ]
  },
  {
   "cell_type": "markdown",
   "metadata": {},
   "source": [
    "## Conclusions"
   ]
  },
  {
   "cell_type": "markdown",
   "metadata": {},
   "source": [
    "- There was presented evidence to support the hypothesis put forth by Thoughty2 that Scandinavian countries in particular are biased to give overly positive answers to quality of life surveys\n",
    "- There was presented evidence regarding tendencies of countries' populations to respond to surveys about their life with a bias. This bias can be predicted based on survey answers to questions with factual answers.\n",
    "- With further research there is a possibility to improve models predicting happiness scores by including this positivity bias\n",
    "- Including additional estimates of general positivity bias for different countries can help estimate what part of residual (unexplained) happiness can be explained by it."
   ]
  },
  {
   "cell_type": "code",
   "execution_count": null,
   "metadata": {},
   "outputs": [],
   "source": []
  }
 ],
 "metadata": {
  "kernelspec": {
   "display_name": "Python [conda env:reports_stuff] *",
   "language": "python",
   "name": "conda-env-reports_stuff-py"
  },
  "language_info": {
   "codemirror_mode": {
    "name": "ipython",
    "version": 3
   },
   "file_extension": ".py",
   "mimetype": "text/x-python",
   "name": "python",
   "nbconvert_exporter": "python",
   "pygments_lexer": "ipython3",
   "version": "3.6.8"
  }
 },
 "nbformat": 4,
 "nbformat_minor": 2
}
